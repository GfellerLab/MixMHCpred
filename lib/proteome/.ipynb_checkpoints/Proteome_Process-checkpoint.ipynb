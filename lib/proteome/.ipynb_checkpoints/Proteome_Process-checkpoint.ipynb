{
 "cells": [
  {
   "cell_type": "code",
   "execution_count": 1,
   "metadata": {},
   "outputs": [],
   "source": [
    "import pandas as pd\n",
    "import numpy as np\n",
    "import matplotlib.pyplot as plt\n",
    "from scipy import stats\n",
    "import seaborn as sns\n",
    "from Bio import SeqIO"
   ]
  },
  {
   "cell_type": "code",
   "execution_count": 2,
   "metadata": {},
   "outputs": [],
   "source": [
    "from Bio import SeqIO\n",
    "SQ =[]\n",
    "ID = []\n",
    "for record in SeqIO.parse(\"uniprot-Humanproteome%3AUP000005640+reviewed%3Ayes.fasta\", \"fasta\"):\n",
    "    SQ.append(record.seq)\n",
    "    ID.append('> '+record.id)  \n",
    "    \n",
    "#/Users/danieltadros/ncbi-blast-2.12.0+/bin"
   ]
  },
  {
   "cell_type": "code",
   "execution_count": 3,
   "metadata": {},
   "outputs": [
    {
     "data": {
      "text/plain": [
       "(7, range(8, 15))"
      ]
     },
     "execution_count": 3,
     "metadata": {},
     "output_type": "execute_result"
    }
   ],
   "source": [
    "full_data = []\n",
    "kmer=range(8,15)\n",
    "len(kmer),kmer[:]"
   ]
  },
  {
   "cell_type": "code",
   "execution_count": 4,
   "metadata": {},
   "outputs": [],
   "source": [
    "for j in range (len(kmer)):\n",
    "    full_data.append([])\n",
    "    for i in range (len(SQ)):\n",
    "        for seq in list(range(len(SQ[i])-(kmer[j]-1))):\n",
    "            full_data[j].append(SQ[i][seq:seq+kmer[j]])"
   ]
  },
  {
   "cell_type": "code",
   "execution_count": 7,
   "metadata": {},
   "outputs": [
    {
     "name": "stdout",
     "output_type": "stream",
     "text": [
      "8\n",
      "9\n",
      "10\n",
      "11\n",
      "12\n",
      "13\n",
      "14\n"
     ]
    }
   ],
   "source": [
    "full_df = []\n",
    "for i in range (len(kmer)):\n",
    "    print(kmer[i])\n",
    "    full_df.append(pd.DataFrame({'k-mers':full_data[i]}))\n",
    "    full_df[i].to_csv('./K_mers/full_'+str(kmer[i])+'mers.txt', index=False)    \n",
    "    full_df[i] = pd.read_csv('./K_mers/full_'+str(kmer[i])+'mers.txt')        \n",
    "    full_df[i] = full_df[i].loc[~full_df[i]['k-mers'].str.contains('U')]\n",
    "    df = pd.DataFrame({})\n",
    "    df['k-mers'] = np.unique(full_df[i]['k-mers'].to_numpy())\n",
    "    df.to_csv('./K_mers/full_'+str(kmer[i])+'mers.txt', index=False,header=False)"
   ]
  },
  {
   "cell_type": "code",
   "execution_count": null,
   "metadata": {},
   "outputs": [],
   "source": []
  }
 ],
 "metadata": {
  "kernelspec": {
   "display_name": "Python 3 (ipykernel)",
   "language": "python",
   "name": "python3"
  },
  "language_info": {
   "codemirror_mode": {
    "name": "ipython",
    "version": 3
   },
   "file_extension": ".py",
   "mimetype": "text/x-python",
   "name": "python",
   "nbconvert_exporter": "python",
   "pygments_lexer": "ipython3",
   "version": "3.7.11"
  }
 },
 "nbformat": 4,
 "nbformat_minor": 4
}
